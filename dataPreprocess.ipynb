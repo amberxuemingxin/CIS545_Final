{
 "cells": [
  {
   "cell_type": "markdown",
   "metadata": {
    "id": "JiTVRY74I3-l"
   },
   "source": [
    "# Data PreProcessing\n",
    "Member in charge：  \n",
    "*   Yinuo Zhao\n",
    "\n"
   ]
  },
  {
   "cell_type": "markdown",
   "metadata": {},
   "source": [
    "## Data Wrangling"
   ]
  },
  {
   "cell_type": "markdown",
   "metadata": {},
   "source": [
    "#### Data wrangling is the process of cleaning, transforming, and preparing raw data for analysis. It is an essential step in the data science pipeline, as raw data often contains errors, inconsistencies, and missing values that need to be addressed before the data can be used for analysis."
   ]
  },
  {
   "cell_type": "code",
   "execution_count": 27,
   "metadata": {
    "id": "PQ3ZkiAN-6gY"
   },
   "outputs": [],
   "source": [
    "# Required Library\n",
    "import pandas as pd\n",
    "import numpy as np\n",
    "import seaborn as sns\n",
    "from string import ascii_letters\n",
    "import matplotlib.pyplot as plt\n",
    "import plotly.express as px\n",
    "import datetime as dt\n",
    "import requests\n",
    "from lxml import html\n",
    "import math\n",
    "import re"
   ]
  },
  {
   "cell_type": "markdown",
   "metadata": {
    "id": "7sGCCEdmVOvD"
   },
   "source": [
    "### Load Raw Dataset"
   ]
  },
  {
   "cell_type": "markdown",
   "metadata": {},
   "source": [
    "#### We have 3 steps first\n",
    "#### 1. Locating the dataset\n",
    "#### 2. Reading in the data\n",
    "#### 3.Inspecting the data"
   ]
  },
  {
   "cell_type": "code",
   "execution_count": 28,
   "metadata": {
    "colab": {
     "base_uri": "https://localhost:8080/"
    },
    "id": "Bs-gNbKj-YDy",
    "outputId": "2372eb58-2265-4a97-dff5-42119c19caa0"
   },
   "outputs": [],
   "source": [
    "# # Run this cell to mount your drive (you will be prompted to sign in)\n",
    "# from google.colab import drive\n",
    "# drive.mount('/content/drive')\n",
    "# ## Create the kaggle directory and \n",
    "# # (NOTE: Do NOT run this cell more than once unless restarting kernel)\n",
    "# !mkdir ~/.kaggle\n",
    "# # Read the uploaded kaggle.json file\n",
    "# !cp /content/drive/MyDrive/kaggle.json ~/.kaggle/\n",
    "# # Download dataset\n",
    "# !!kaggle datasets download -d berkeleyearth/climate-change-earth-surface-temperature-data\n",
    "# # Unzip folder in Colab content folder\n",
    "# !unzip /content/climate-change-earth-surface-temperature-data.zip"
   ]
  },
  {
   "cell_type": "code",
   "execution_count": 29,
   "metadata": {
    "id": "S_gVf5Z8-j2I"
   },
   "outputs": [],
   "source": [
    "# load all the raw dataset\n",
    "majorCity_temp = pd.read_csv('./rowData/GlobalLandTemperaturesByMajorCity.csv')\n",
    "temp = pd.read_csv('./rowData/GlobalTemperatures.csv')"
   ]
  },
  {
   "cell_type": "markdown",
   "metadata": {
    "id": "E2GkEDyo9Wkf"
   },
   "source": [
    "### Quick look on raw datasets "
   ]
  },
  {
   "cell_type": "code",
   "execution_count": null,
   "metadata": {},
   "outputs": [],
   "source": []
  },
  {
   "cell_type": "code",
   "execution_count": 30,
   "metadata": {
    "colab": {
     "base_uri": "https://localhost:8080/",
     "height": 419
    },
    "id": "YmOAmQueAnrg",
    "outputId": "260b6be2-1601-4d17-95e0-19208c939398"
   },
   "outputs": [
    {
     "data": {
      "text/html": [
       "<div>\n",
       "<style scoped>\n",
       "    .dataframe tbody tr th:only-of-type {\n",
       "        vertical-align: middle;\n",
       "    }\n",
       "\n",
       "    .dataframe tbody tr th {\n",
       "        vertical-align: top;\n",
       "    }\n",
       "\n",
       "    .dataframe thead th {\n",
       "        text-align: right;\n",
       "    }\n",
       "</style>\n",
       "<table border=\"1\" class=\"dataframe\">\n",
       "  <thead>\n",
       "    <tr style=\"text-align: right;\">\n",
       "      <th></th>\n",
       "      <th>dt</th>\n",
       "      <th>AverageTemperature</th>\n",
       "      <th>AverageTemperatureUncertainty</th>\n",
       "      <th>City</th>\n",
       "      <th>Country</th>\n",
       "      <th>Latitude</th>\n",
       "      <th>Longitude</th>\n",
       "    </tr>\n",
       "  </thead>\n",
       "  <tbody>\n",
       "    <tr>\n",
       "      <th>0</th>\n",
       "      <td>1849-01-01</td>\n",
       "      <td>26.704</td>\n",
       "      <td>1.435</td>\n",
       "      <td>Abidjan</td>\n",
       "      <td>Côte D'Ivoire</td>\n",
       "      <td>5.63N</td>\n",
       "      <td>3.23W</td>\n",
       "    </tr>\n",
       "    <tr>\n",
       "      <th>1</th>\n",
       "      <td>1849-02-01</td>\n",
       "      <td>27.434</td>\n",
       "      <td>1.362</td>\n",
       "      <td>Abidjan</td>\n",
       "      <td>Côte D'Ivoire</td>\n",
       "      <td>5.63N</td>\n",
       "      <td>3.23W</td>\n",
       "    </tr>\n",
       "    <tr>\n",
       "      <th>2</th>\n",
       "      <td>1849-03-01</td>\n",
       "      <td>28.101</td>\n",
       "      <td>1.612</td>\n",
       "      <td>Abidjan</td>\n",
       "      <td>Côte D'Ivoire</td>\n",
       "      <td>5.63N</td>\n",
       "      <td>3.23W</td>\n",
       "    </tr>\n",
       "    <tr>\n",
       "      <th>3</th>\n",
       "      <td>1849-04-01</td>\n",
       "      <td>26.140</td>\n",
       "      <td>1.387</td>\n",
       "      <td>Abidjan</td>\n",
       "      <td>Côte D'Ivoire</td>\n",
       "      <td>5.63N</td>\n",
       "      <td>3.23W</td>\n",
       "    </tr>\n",
       "    <tr>\n",
       "      <th>4</th>\n",
       "      <td>1849-05-01</td>\n",
       "      <td>25.427</td>\n",
       "      <td>1.200</td>\n",
       "      <td>Abidjan</td>\n",
       "      <td>Côte D'Ivoire</td>\n",
       "      <td>5.63N</td>\n",
       "      <td>3.23W</td>\n",
       "    </tr>\n",
       "  </tbody>\n",
       "</table>\n",
       "</div>"
      ],
      "text/plain": [
       "           dt  AverageTemperature  AverageTemperatureUncertainty     City   \n",
       "0  1849-01-01              26.704                          1.435  Abidjan  \\\n",
       "1  1849-02-01              27.434                          1.362  Abidjan   \n",
       "2  1849-03-01              28.101                          1.612  Abidjan   \n",
       "3  1849-04-01              26.140                          1.387  Abidjan   \n",
       "4  1849-05-01              25.427                          1.200  Abidjan   \n",
       "\n",
       "         Country Latitude Longitude  \n",
       "0  Côte D'Ivoire    5.63N     3.23W  \n",
       "1  Côte D'Ivoire    5.63N     3.23W  \n",
       "2  Côte D'Ivoire    5.63N     3.23W  \n",
       "3  Côte D'Ivoire    5.63N     3.23W  \n",
       "4  Côte D'Ivoire    5.63N     3.23W  "
      ]
     },
     "execution_count": 30,
     "metadata": {},
     "output_type": "execute_result"
    }
   ],
   "source": [
    "majorCity_temp.head()"
   ]
  },
  {
   "cell_type": "code",
   "execution_count": 31,
   "metadata": {
    "colab": {
     "base_uri": "https://localhost:8080/",
     "height": 653
    },
    "id": "4sRf-XkuAP1b",
    "outputId": "e5d01116-c086-4d3b-92fc-d745f59f7d52"
   },
   "outputs": [
    {
     "data": {
      "text/html": [
       "<div>\n",
       "<style scoped>\n",
       "    .dataframe tbody tr th:only-of-type {\n",
       "        vertical-align: middle;\n",
       "    }\n",
       "\n",
       "    .dataframe tbody tr th {\n",
       "        vertical-align: top;\n",
       "    }\n",
       "\n",
       "    .dataframe thead th {\n",
       "        text-align: right;\n",
       "    }\n",
       "</style>\n",
       "<table border=\"1\" class=\"dataframe\">\n",
       "  <thead>\n",
       "    <tr style=\"text-align: right;\">\n",
       "      <th></th>\n",
       "      <th>dt</th>\n",
       "      <th>LandAverageTemperature</th>\n",
       "      <th>LandAverageTemperatureUncertainty</th>\n",
       "      <th>LandMaxTemperature</th>\n",
       "      <th>LandMaxTemperatureUncertainty</th>\n",
       "      <th>LandMinTemperature</th>\n",
       "      <th>LandMinTemperatureUncertainty</th>\n",
       "      <th>LandAndOceanAverageTemperature</th>\n",
       "      <th>LandAndOceanAverageTemperatureUncertainty</th>\n",
       "    </tr>\n",
       "  </thead>\n",
       "  <tbody>\n",
       "    <tr>\n",
       "      <th>0</th>\n",
       "      <td>1750-01-01</td>\n",
       "      <td>3.034</td>\n",
       "      <td>3.574</td>\n",
       "      <td>NaN</td>\n",
       "      <td>NaN</td>\n",
       "      <td>NaN</td>\n",
       "      <td>NaN</td>\n",
       "      <td>NaN</td>\n",
       "      <td>NaN</td>\n",
       "    </tr>\n",
       "    <tr>\n",
       "      <th>1</th>\n",
       "      <td>1750-02-01</td>\n",
       "      <td>3.083</td>\n",
       "      <td>3.702</td>\n",
       "      <td>NaN</td>\n",
       "      <td>NaN</td>\n",
       "      <td>NaN</td>\n",
       "      <td>NaN</td>\n",
       "      <td>NaN</td>\n",
       "      <td>NaN</td>\n",
       "    </tr>\n",
       "    <tr>\n",
       "      <th>2</th>\n",
       "      <td>1750-03-01</td>\n",
       "      <td>5.626</td>\n",
       "      <td>3.076</td>\n",
       "      <td>NaN</td>\n",
       "      <td>NaN</td>\n",
       "      <td>NaN</td>\n",
       "      <td>NaN</td>\n",
       "      <td>NaN</td>\n",
       "      <td>NaN</td>\n",
       "    </tr>\n",
       "    <tr>\n",
       "      <th>3</th>\n",
       "      <td>1750-04-01</td>\n",
       "      <td>8.490</td>\n",
       "      <td>2.451</td>\n",
       "      <td>NaN</td>\n",
       "      <td>NaN</td>\n",
       "      <td>NaN</td>\n",
       "      <td>NaN</td>\n",
       "      <td>NaN</td>\n",
       "      <td>NaN</td>\n",
       "    </tr>\n",
       "    <tr>\n",
       "      <th>4</th>\n",
       "      <td>1750-05-01</td>\n",
       "      <td>11.573</td>\n",
       "      <td>2.072</td>\n",
       "      <td>NaN</td>\n",
       "      <td>NaN</td>\n",
       "      <td>NaN</td>\n",
       "      <td>NaN</td>\n",
       "      <td>NaN</td>\n",
       "      <td>NaN</td>\n",
       "    </tr>\n",
       "    <tr>\n",
       "      <th>...</th>\n",
       "      <td>...</td>\n",
       "      <td>...</td>\n",
       "      <td>...</td>\n",
       "      <td>...</td>\n",
       "      <td>...</td>\n",
       "      <td>...</td>\n",
       "      <td>...</td>\n",
       "      <td>...</td>\n",
       "      <td>...</td>\n",
       "    </tr>\n",
       "    <tr>\n",
       "      <th>3187</th>\n",
       "      <td>2015-08-01</td>\n",
       "      <td>14.755</td>\n",
       "      <td>0.072</td>\n",
       "      <td>20.699</td>\n",
       "      <td>0.110</td>\n",
       "      <td>9.005</td>\n",
       "      <td>0.170</td>\n",
       "      <td>17.589</td>\n",
       "      <td>0.057</td>\n",
       "    </tr>\n",
       "    <tr>\n",
       "      <th>3188</th>\n",
       "      <td>2015-09-01</td>\n",
       "      <td>12.999</td>\n",
       "      <td>0.079</td>\n",
       "      <td>18.845</td>\n",
       "      <td>0.088</td>\n",
       "      <td>7.199</td>\n",
       "      <td>0.229</td>\n",
       "      <td>17.049</td>\n",
       "      <td>0.058</td>\n",
       "    </tr>\n",
       "    <tr>\n",
       "      <th>3189</th>\n",
       "      <td>2015-10-01</td>\n",
       "      <td>10.801</td>\n",
       "      <td>0.102</td>\n",
       "      <td>16.450</td>\n",
       "      <td>0.059</td>\n",
       "      <td>5.232</td>\n",
       "      <td>0.115</td>\n",
       "      <td>16.290</td>\n",
       "      <td>0.062</td>\n",
       "    </tr>\n",
       "    <tr>\n",
       "      <th>3190</th>\n",
       "      <td>2015-11-01</td>\n",
       "      <td>7.433</td>\n",
       "      <td>0.119</td>\n",
       "      <td>12.892</td>\n",
       "      <td>0.093</td>\n",
       "      <td>2.157</td>\n",
       "      <td>0.106</td>\n",
       "      <td>15.252</td>\n",
       "      <td>0.063</td>\n",
       "    </tr>\n",
       "    <tr>\n",
       "      <th>3191</th>\n",
       "      <td>2015-12-01</td>\n",
       "      <td>5.518</td>\n",
       "      <td>0.100</td>\n",
       "      <td>10.725</td>\n",
       "      <td>0.154</td>\n",
       "      <td>0.287</td>\n",
       "      <td>0.099</td>\n",
       "      <td>14.774</td>\n",
       "      <td>0.062</td>\n",
       "    </tr>\n",
       "  </tbody>\n",
       "</table>\n",
       "<p>3192 rows × 9 columns</p>\n",
       "</div>"
      ],
      "text/plain": [
       "              dt  LandAverageTemperature  LandAverageTemperatureUncertainty   \n",
       "0     1750-01-01                   3.034                              3.574  \\\n",
       "1     1750-02-01                   3.083                              3.702   \n",
       "2     1750-03-01                   5.626                              3.076   \n",
       "3     1750-04-01                   8.490                              2.451   \n",
       "4     1750-05-01                  11.573                              2.072   \n",
       "...          ...                     ...                                ...   \n",
       "3187  2015-08-01                  14.755                              0.072   \n",
       "3188  2015-09-01                  12.999                              0.079   \n",
       "3189  2015-10-01                  10.801                              0.102   \n",
       "3190  2015-11-01                   7.433                              0.119   \n",
       "3191  2015-12-01                   5.518                              0.100   \n",
       "\n",
       "      LandMaxTemperature  LandMaxTemperatureUncertainty  LandMinTemperature   \n",
       "0                    NaN                            NaN                 NaN  \\\n",
       "1                    NaN                            NaN                 NaN   \n",
       "2                    NaN                            NaN                 NaN   \n",
       "3                    NaN                            NaN                 NaN   \n",
       "4                    NaN                            NaN                 NaN   \n",
       "...                  ...                            ...                 ...   \n",
       "3187              20.699                          0.110               9.005   \n",
       "3188              18.845                          0.088               7.199   \n",
       "3189              16.450                          0.059               5.232   \n",
       "3190              12.892                          0.093               2.157   \n",
       "3191              10.725                          0.154               0.287   \n",
       "\n",
       "      LandMinTemperatureUncertainty  LandAndOceanAverageTemperature   \n",
       "0                               NaN                             NaN  \\\n",
       "1                               NaN                             NaN   \n",
       "2                               NaN                             NaN   \n",
       "3                               NaN                             NaN   \n",
       "4                               NaN                             NaN   \n",
       "...                             ...                             ...   \n",
       "3187                          0.170                          17.589   \n",
       "3188                          0.229                          17.049   \n",
       "3189                          0.115                          16.290   \n",
       "3190                          0.106                          15.252   \n",
       "3191                          0.099                          14.774   \n",
       "\n",
       "      LandAndOceanAverageTemperatureUncertainty  \n",
       "0                                           NaN  \n",
       "1                                           NaN  \n",
       "2                                           NaN  \n",
       "3                                           NaN  \n",
       "4                                           NaN  \n",
       "...                                         ...  \n",
       "3187                                      0.057  \n",
       "3188                                      0.058  \n",
       "3189                                      0.062  \n",
       "3190                                      0.063  \n",
       "3191                                      0.062  \n",
       "\n",
       "[3192 rows x 9 columns]"
      ]
     },
     "execution_count": 31,
     "metadata": {},
     "output_type": "execute_result"
    }
   ],
   "source": [
    "temp"
   ]
  },
  {
   "cell_type": "code",
   "execution_count": 32,
   "metadata": {
    "colab": {
     "base_uri": "https://localhost:8080/"
    },
    "id": "s76P6JwSmQYm",
    "outputId": "8a7a07d6-372b-4ed1-806d-a31cc4e61e13"
   },
   "outputs": [
    {
     "name": "stdout",
     "output_type": "stream",
     "text": [
      "<class 'pandas.core.frame.DataFrame'>\n",
      "RangeIndex: 239177 entries, 0 to 239176\n",
      "Data columns (total 7 columns):\n",
      " #   Column                         Non-Null Count   Dtype  \n",
      "---  ------                         --------------   -----  \n",
      " 0   dt                             239177 non-null  object \n",
      " 1   AverageTemperature             228175 non-null  float64\n",
      " 2   AverageTemperatureUncertainty  228175 non-null  float64\n",
      " 3   City                           239177 non-null  object \n",
      " 4   Country                        239177 non-null  object \n",
      " 5   Latitude                       239177 non-null  object \n",
      " 6   Longitude                      239177 non-null  object \n",
      "dtypes: float64(2), object(5)\n",
      "memory usage: 12.8+ MB\n"
     ]
    }
   ],
   "source": [
    "# check data size and type of majorCity_temp\n",
    "majorCity_temp.info()"
   ]
  },
  {
   "cell_type": "code",
   "execution_count": 33,
   "metadata": {
    "colab": {
     "base_uri": "https://localhost:8080/"
    },
    "id": "ikI-PMa07-Wp",
    "outputId": "3382fb38-4c1f-4faf-a743-fc2e3b592360"
   },
   "outputs": [
    {
     "name": "stdout",
     "output_type": "stream",
     "text": [
      "<class 'pandas.core.frame.DataFrame'>\n",
      "RangeIndex: 3192 entries, 0 to 3191\n",
      "Data columns (total 9 columns):\n",
      " #   Column                                     Non-Null Count  Dtype  \n",
      "---  ------                                     --------------  -----  \n",
      " 0   dt                                         3192 non-null   object \n",
      " 1   LandAverageTemperature                     3180 non-null   float64\n",
      " 2   LandAverageTemperatureUncertainty          3180 non-null   float64\n",
      " 3   LandMaxTemperature                         1992 non-null   float64\n",
      " 4   LandMaxTemperatureUncertainty              1992 non-null   float64\n",
      " 5   LandMinTemperature                         1992 non-null   float64\n",
      " 6   LandMinTemperatureUncertainty              1992 non-null   float64\n",
      " 7   LandAndOceanAverageTemperature             1992 non-null   float64\n",
      " 8   LandAndOceanAverageTemperatureUncertainty  1992 non-null   float64\n",
      "dtypes: float64(8), object(1)\n",
      "memory usage: 224.6+ KB\n"
     ]
    }
   ],
   "source": [
    "temp.info()"
   ]
  },
  {
   "cell_type": "code",
   "execution_count": 34,
   "metadata": {
    "colab": {
     "base_uri": "https://localhost:8080/"
    },
    "id": "9SvpUOPQ8TI5",
    "outputId": "969d69f9-80d8-4187-f3d1-6b0ddaafd133"
   },
   "outputs": [
    {
     "data": {
      "text/plain": [
       "dt                                   0\n",
       "AverageTemperature               11002\n",
       "AverageTemperatureUncertainty    11002\n",
       "City                                 0\n",
       "Country                              0\n",
       "Latitude                             0\n",
       "Longitude                            0\n",
       "dtype: int64"
      ]
     },
     "execution_count": 34,
     "metadata": {},
     "output_type": "execute_result"
    }
   ],
   "source": [
    "# check # of null value in majorCity_temp\n",
    "majorCity_temp.isnull().sum()"
   ]
  },
  {
   "cell_type": "code",
   "execution_count": 35,
   "metadata": {
    "colab": {
     "base_uri": "https://localhost:8080/"
    },
    "id": "e7fXvZtt8rP-",
    "outputId": "53f5f038-55f4-447c-e3a4-c1451378cd3c"
   },
   "outputs": [
    {
     "data": {
      "text/plain": [
       "dt                                              0\n",
       "LandAverageTemperature                         12\n",
       "LandAverageTemperatureUncertainty              12\n",
       "LandMaxTemperature                           1200\n",
       "LandMaxTemperatureUncertainty                1200\n",
       "LandMinTemperature                           1200\n",
       "LandMinTemperatureUncertainty                1200\n",
       "LandAndOceanAverageTemperature               1200\n",
       "LandAndOceanAverageTemperatureUncertainty    1200\n",
       "dtype: int64"
      ]
     },
     "execution_count": 35,
     "metadata": {},
     "output_type": "execute_result"
    }
   ],
   "source": [
    "# check # of null value in temp\n",
    "temp.isnull().sum()"
   ]
  },
  {
   "cell_type": "markdown",
   "metadata": {
    "id": "9iTJD5y5DZyN"
   },
   "source": [
    "### Data Cleaning"
   ]
  },
  {
   "cell_type": "markdown",
   "metadata": {},
   "source": [
    "#### Data cleaning is the process of identifying and correcting or removing errors, inconsistencies, and inaccuracies in a dataset.\n",
    "#### It includes handling missing values, removing duplicates, standardizing variables, and handling outliers"
   ]
  },
  {
   "cell_type": "code",
   "execution_count": 36,
   "metadata": {
    "id": "rI_oOhdt9cvT"
   },
   "outputs": [],
   "source": [
    "# cast dt to datetimne in main dataset for slicing step and rename the column with clear instruction\n",
    "majorCity_temp['dt'] = pd.to_datetime(majorCity_temp['dt'],format='%Y-%m-%d')\n",
    "majorCity_temp = majorCity_temp.rename(columns={'dt': 'datetime'})\n",
    "temp['dt'] = pd.to_datetime(temp['dt'],format='%Y-%m-%d')\n",
    "temp = temp.rename(columns={'dt': 'datetime'})"
   ]
  },
  {
   "cell_type": "markdown",
   "metadata": {},
   "source": [
    "#### Checking the datatypes of the majorCity_temp columns"
   ]
  },
  {
   "cell_type": "code",
   "execution_count": 37,
   "metadata": {
    "colab": {
     "base_uri": "https://localhost:8080/"
    },
    "id": "fMIc98TcCk1R",
    "outputId": "5e884220-79be-4071-a6a4-31157c7b71c7",
    "scrolled": true
   },
   "outputs": [
    {
     "data": {
      "text/plain": [
       "datetime                         datetime64[ns]\n",
       "AverageTemperature                      float64\n",
       "AverageTemperatureUncertainty           float64\n",
       "City                                     object\n",
       "Country                                  object\n",
       "Latitude                                 object\n",
       "Longitude                                object\n",
       "dtype: object"
      ]
     },
     "execution_count": 37,
     "metadata": {},
     "output_type": "execute_result"
    }
   ],
   "source": [
    "# recheck datatype in majorCity_temp to make sure \n",
    "majorCity_temp.dtypes"
   ]
  },
  {
   "cell_type": "markdown",
   "metadata": {},
   "source": [
    "#### Checking the datatypes of the temp columns"
   ]
  },
  {
   "cell_type": "code",
   "execution_count": 38,
   "metadata": {
    "colab": {
     "base_uri": "https://localhost:8080/"
    },
    "id": "TVmXf6G-CvSA",
    "outputId": "18e59f22-3db8-43b5-94f7-57a7a6d355b1"
   },
   "outputs": [
    {
     "data": {
      "text/plain": [
       "datetime                                     datetime64[ns]\n",
       "LandAverageTemperature                              float64\n",
       "LandAverageTemperatureUncertainty                   float64\n",
       "LandMaxTemperature                                  float64\n",
       "LandMaxTemperatureUncertainty                       float64\n",
       "LandMinTemperature                                  float64\n",
       "LandMinTemperatureUncertainty                       float64\n",
       "LandAndOceanAverageTemperature                      float64\n",
       "LandAndOceanAverageTemperatureUncertainty           float64\n",
       "dtype: object"
      ]
     },
     "execution_count": 38,
     "metadata": {},
     "output_type": "execute_result"
    }
   ],
   "source": [
    "# recheck datatype in temp to make sure \n",
    "temp.dtypes"
   ]
  },
  {
   "cell_type": "code",
   "execution_count": 39,
   "metadata": {
    "id": "dwQo-0Hx9BcE"
   },
   "outputs": [],
   "source": [
    "# slicing dataset by dt from 1900 to 2012 due to Information Completeness\n",
    "Temp = temp.loc[(temp['datetime'] >= '1900-01-01') & (temp['datetime'] <= '2012-12-01')]\n",
    "MajorCity = majorCity_temp.loc[(majorCity_temp['datetime'] >= '1900-01-01') & (majorCity_temp['datetime'] <= '2012-12-01')]"
   ]
  },
  {
   "cell_type": "code",
   "execution_count": 40,
   "metadata": {
    "colab": {
     "base_uri": "https://localhost:8080/"
    },
    "id": "ZqPJH35Y6pc9",
    "outputId": "ec4bd7d6-a9f3-42f5-d833-7146546e8098"
   },
   "outputs": [
    {
     "data": {
      "text/plain": [
       "datetime                         0\n",
       "AverageTemperature               0\n",
       "AverageTemperatureUncertainty    0\n",
       "City                             0\n",
       "Country                          0\n",
       "Latitude                         0\n",
       "Longitude                        0\n",
       "dtype: int64"
      ]
     },
     "execution_count": 40,
     "metadata": {},
     "output_type": "execute_result"
    }
   ],
   "source": [
    "# check null value -> data has no na now \n",
    "MajorCity.isnull().sum()"
   ]
  },
  {
   "cell_type": "code",
   "execution_count": 41,
   "metadata": {
    "colab": {
     "base_uri": "https://localhost:8080/",
     "height": 49
    },
    "id": "wjWMUsemFaIF",
    "outputId": "9ad5a2bf-838d-478c-fdc1-00dd9b9aad1d"
   },
   "outputs": [
    {
     "data": {
      "text/html": [
       "<div>\n",
       "<style scoped>\n",
       "    .dataframe tbody tr th:only-of-type {\n",
       "        vertical-align: middle;\n",
       "    }\n",
       "\n",
       "    .dataframe tbody tr th {\n",
       "        vertical-align: top;\n",
       "    }\n",
       "\n",
       "    .dataframe thead th {\n",
       "        text-align: right;\n",
       "    }\n",
       "</style>\n",
       "<table border=\"1\" class=\"dataframe\">\n",
       "  <thead>\n",
       "    <tr style=\"text-align: right;\">\n",
       "      <th></th>\n",
       "      <th>datetime</th>\n",
       "      <th>AverageTemperature</th>\n",
       "      <th>AverageTemperatureUncertainty</th>\n",
       "      <th>City</th>\n",
       "      <th>Country</th>\n",
       "      <th>Latitude</th>\n",
       "      <th>Longitude</th>\n",
       "    </tr>\n",
       "  </thead>\n",
       "  <tbody>\n",
       "  </tbody>\n",
       "</table>\n",
       "</div>"
      ],
      "text/plain": [
       "Empty DataFrame\n",
       "Columns: [datetime, AverageTemperature, AverageTemperatureUncertainty, City, Country, Latitude, Longitude]\n",
       "Index: []"
      ]
     },
     "execution_count": 41,
     "metadata": {},
     "output_type": "execute_result"
    }
   ],
   "source": [
    "# check duplicates-> data has no duplicate\n",
    "MajorCity[MajorCity.duplicated(subset=['datetime','City'],keep = False)]"
   ]
  },
  {
   "cell_type": "code",
   "execution_count": 42,
   "metadata": {
    "id": "mNk8cmYzBLfF"
   },
   "outputs": [],
   "source": [
    "# filter dataset base on City:\n",
    "# count city frequency and check if there is city with really less or more data\n",
    "MajorCity2 = MajorCity.groupby(['City']).count().reset_index()"
   ]
  },
  {
   "cell_type": "code",
   "execution_count": 43,
   "metadata": {
    "colab": {
     "base_uri": "https://localhost:8080/",
     "height": 542
    },
    "id": "UxATViKL7GQg",
    "outputId": "17f1f717-acf7-4b8e-ea9a-e12c847ce6f5"
   },
   "outputs": [
    {
     "data": {
      "application/vnd.plotly.v1+json": {
       "config": {
        "plotlyServerURL": "https://plot.ly"
       },
       "data": [
        {
         "hovertemplate": "City=%{x}<br>datetime=%{y}<extra></extra>",
         "legendgroup": "",
         "marker": {
          "color": "#636efa",
          "symbol": "circle"
         },
         "mode": "markers",
         "name": "",
         "orientation": "v",
         "showlegend": false,
         "type": "scatter",
         "x": [
          "Abidjan",
          "Addis Abeba",
          "Ahmadabad",
          "Aleppo",
          "Alexandria",
          "Ankara",
          "Baghdad",
          "Bangalore",
          "Bangkok",
          "Belo Horizonte",
          "Berlin",
          "Bogotá",
          "Bombay",
          "Brasília",
          "Cairo",
          "Calcutta",
          "Cali",
          "Cape Town",
          "Casablanca",
          "Changchun",
          "Chengdu",
          "Chicago",
          "Chongqing",
          "Dakar",
          "Dalian",
          "Dar Es Salaam",
          "Delhi",
          "Dhaka",
          "Durban",
          "Faisalabad",
          "Fortaleza",
          "Gizeh",
          "Guangzhou",
          "Harare",
          "Harbin",
          "Ho Chi Minh City",
          "Hyderabad",
          "Ibadan",
          "Istanbul",
          "Izmir",
          "Jaipur",
          "Jakarta",
          "Jiddah",
          "Jinan",
          "Kabul",
          "Kano",
          "Kanpur",
          "Karachi",
          "Kiev",
          "Kinshasa",
          "Lagos",
          "Lahore",
          "Lakhnau",
          "Lima",
          "London",
          "Los Angeles",
          "Luanda",
          "Madras",
          "Madrid",
          "Manila",
          "Mashhad",
          "Melbourne",
          "Mexico",
          "Mogadishu",
          "Montreal",
          "Moscow",
          "Nagoya",
          "Nagpur",
          "Nairobi",
          "Nanjing",
          "New Delhi",
          "New York",
          "Paris",
          "Peking",
          "Pune",
          "Rangoon",
          "Rio De Janeiro",
          "Riyadh",
          "Rome",
          "Saint Petersburg",
          "Salvador",
          "Santiago",
          "Santo Domingo",
          "Seoul",
          "Shanghai",
          "Shenyang",
          "Singapore",
          "Surabaya",
          "Surat",
          "Sydney",
          "São Paulo",
          "Taipei",
          "Taiyuan",
          "Tangshan",
          "Tianjin",
          "Tokyo",
          "Toronto",
          "Umm Durman",
          "Wuhan",
          "Xian"
         ],
         "xaxis": "x",
         "y": [
          1356,
          1356,
          1356,
          1356,
          1356,
          1356,
          1356,
          1356,
          1356,
          1356,
          1356,
          1356,
          1356,
          1356,
          1356,
          1356,
          1356,
          1356,
          1356,
          1356,
          1356,
          1356,
          1356,
          1356,
          1356,
          1356,
          1356,
          1356,
          1356,
          1356,
          1356,
          1356,
          1356,
          1356,
          1356,
          1356,
          1356,
          1356,
          1356,
          1356,
          1356,
          1356,
          1356,
          1356,
          1356,
          1356,
          1356,
          1356,
          1356,
          1356,
          1356,
          1356,
          1356,
          1356,
          1356,
          1356,
          1356,
          1356,
          1356,
          1356,
          1356,
          1356,
          1356,
          1356,
          1356,
          1356,
          1356,
          1356,
          1356,
          1356,
          1356,
          1356,
          1356,
          1356,
          1356,
          1356,
          1356,
          1356,
          1356,
          1356,
          1356,
          1356,
          1356,
          1356,
          1356,
          1356,
          1356,
          1356,
          1356,
          1356,
          1356,
          1356,
          1356,
          1356,
          1356,
          1356,
          1356,
          1356,
          1356,
          1356
         ],
         "yaxis": "y"
        }
       ],
       "layout": {
        "legend": {
         "tracegroupgap": 0
        },
        "margin": {
         "t": 60
        },
        "template": {
         "data": {
          "bar": [
           {
            "error_x": {
             "color": "#2a3f5f"
            },
            "error_y": {
             "color": "#2a3f5f"
            },
            "marker": {
             "line": {
              "color": "#E5ECF6",
              "width": 0.5
             },
             "pattern": {
              "fillmode": "overlay",
              "size": 10,
              "solidity": 0.2
             }
            },
            "type": "bar"
           }
          ],
          "barpolar": [
           {
            "marker": {
             "line": {
              "color": "#E5ECF6",
              "width": 0.5
             },
             "pattern": {
              "fillmode": "overlay",
              "size": 10,
              "solidity": 0.2
             }
            },
            "type": "barpolar"
           }
          ],
          "carpet": [
           {
            "aaxis": {
             "endlinecolor": "#2a3f5f",
             "gridcolor": "white",
             "linecolor": "white",
             "minorgridcolor": "white",
             "startlinecolor": "#2a3f5f"
            },
            "baxis": {
             "endlinecolor": "#2a3f5f",
             "gridcolor": "white",
             "linecolor": "white",
             "minorgridcolor": "white",
             "startlinecolor": "#2a3f5f"
            },
            "type": "carpet"
           }
          ],
          "choropleth": [
           {
            "colorbar": {
             "outlinewidth": 0,
             "ticks": ""
            },
            "type": "choropleth"
           }
          ],
          "contour": [
           {
            "colorbar": {
             "outlinewidth": 0,
             "ticks": ""
            },
            "colorscale": [
             [
              0,
              "#0d0887"
             ],
             [
              0.1111111111111111,
              "#46039f"
             ],
             [
              0.2222222222222222,
              "#7201a8"
             ],
             [
              0.3333333333333333,
              "#9c179e"
             ],
             [
              0.4444444444444444,
              "#bd3786"
             ],
             [
              0.5555555555555556,
              "#d8576b"
             ],
             [
              0.6666666666666666,
              "#ed7953"
             ],
             [
              0.7777777777777778,
              "#fb9f3a"
             ],
             [
              0.8888888888888888,
              "#fdca26"
             ],
             [
              1,
              "#f0f921"
             ]
            ],
            "type": "contour"
           }
          ],
          "contourcarpet": [
           {
            "colorbar": {
             "outlinewidth": 0,
             "ticks": ""
            },
            "type": "contourcarpet"
           }
          ],
          "heatmap": [
           {
            "colorbar": {
             "outlinewidth": 0,
             "ticks": ""
            },
            "colorscale": [
             [
              0,
              "#0d0887"
             ],
             [
              0.1111111111111111,
              "#46039f"
             ],
             [
              0.2222222222222222,
              "#7201a8"
             ],
             [
              0.3333333333333333,
              "#9c179e"
             ],
             [
              0.4444444444444444,
              "#bd3786"
             ],
             [
              0.5555555555555556,
              "#d8576b"
             ],
             [
              0.6666666666666666,
              "#ed7953"
             ],
             [
              0.7777777777777778,
              "#fb9f3a"
             ],
             [
              0.8888888888888888,
              "#fdca26"
             ],
             [
              1,
              "#f0f921"
             ]
            ],
            "type": "heatmap"
           }
          ],
          "heatmapgl": [
           {
            "colorbar": {
             "outlinewidth": 0,
             "ticks": ""
            },
            "colorscale": [
             [
              0,
              "#0d0887"
             ],
             [
              0.1111111111111111,
              "#46039f"
             ],
             [
              0.2222222222222222,
              "#7201a8"
             ],
             [
              0.3333333333333333,
              "#9c179e"
             ],
             [
              0.4444444444444444,
              "#bd3786"
             ],
             [
              0.5555555555555556,
              "#d8576b"
             ],
             [
              0.6666666666666666,
              "#ed7953"
             ],
             [
              0.7777777777777778,
              "#fb9f3a"
             ],
             [
              0.8888888888888888,
              "#fdca26"
             ],
             [
              1,
              "#f0f921"
             ]
            ],
            "type": "heatmapgl"
           }
          ],
          "histogram": [
           {
            "marker": {
             "pattern": {
              "fillmode": "overlay",
              "size": 10,
              "solidity": 0.2
             }
            },
            "type": "histogram"
           }
          ],
          "histogram2d": [
           {
            "colorbar": {
             "outlinewidth": 0,
             "ticks": ""
            },
            "colorscale": [
             [
              0,
              "#0d0887"
             ],
             [
              0.1111111111111111,
              "#46039f"
             ],
             [
              0.2222222222222222,
              "#7201a8"
             ],
             [
              0.3333333333333333,
              "#9c179e"
             ],
             [
              0.4444444444444444,
              "#bd3786"
             ],
             [
              0.5555555555555556,
              "#d8576b"
             ],
             [
              0.6666666666666666,
              "#ed7953"
             ],
             [
              0.7777777777777778,
              "#fb9f3a"
             ],
             [
              0.8888888888888888,
              "#fdca26"
             ],
             [
              1,
              "#f0f921"
             ]
            ],
            "type": "histogram2d"
           }
          ],
          "histogram2dcontour": [
           {
            "colorbar": {
             "outlinewidth": 0,
             "ticks": ""
            },
            "colorscale": [
             [
              0,
              "#0d0887"
             ],
             [
              0.1111111111111111,
              "#46039f"
             ],
             [
              0.2222222222222222,
              "#7201a8"
             ],
             [
              0.3333333333333333,
              "#9c179e"
             ],
             [
              0.4444444444444444,
              "#bd3786"
             ],
             [
              0.5555555555555556,
              "#d8576b"
             ],
             [
              0.6666666666666666,
              "#ed7953"
             ],
             [
              0.7777777777777778,
              "#fb9f3a"
             ],
             [
              0.8888888888888888,
              "#fdca26"
             ],
             [
              1,
              "#f0f921"
             ]
            ],
            "type": "histogram2dcontour"
           }
          ],
          "mesh3d": [
           {
            "colorbar": {
             "outlinewidth": 0,
             "ticks": ""
            },
            "type": "mesh3d"
           }
          ],
          "parcoords": [
           {
            "line": {
             "colorbar": {
              "outlinewidth": 0,
              "ticks": ""
             }
            },
            "type": "parcoords"
           }
          ],
          "pie": [
           {
            "automargin": true,
            "type": "pie"
           }
          ],
          "scatter": [
           {
            "fillpattern": {
             "fillmode": "overlay",
             "size": 10,
             "solidity": 0.2
            },
            "type": "scatter"
           }
          ],
          "scatter3d": [
           {
            "line": {
             "colorbar": {
              "outlinewidth": 0,
              "ticks": ""
             }
            },
            "marker": {
             "colorbar": {
              "outlinewidth": 0,
              "ticks": ""
             }
            },
            "type": "scatter3d"
           }
          ],
          "scattercarpet": [
           {
            "marker": {
             "colorbar": {
              "outlinewidth": 0,
              "ticks": ""
             }
            },
            "type": "scattercarpet"
           }
          ],
          "scattergeo": [
           {
            "marker": {
             "colorbar": {
              "outlinewidth": 0,
              "ticks": ""
             }
            },
            "type": "scattergeo"
           }
          ],
          "scattergl": [
           {
            "marker": {
             "colorbar": {
              "outlinewidth": 0,
              "ticks": ""
             }
            },
            "type": "scattergl"
           }
          ],
          "scattermapbox": [
           {
            "marker": {
             "colorbar": {
              "outlinewidth": 0,
              "ticks": ""
             }
            },
            "type": "scattermapbox"
           }
          ],
          "scatterpolar": [
           {
            "marker": {
             "colorbar": {
              "outlinewidth": 0,
              "ticks": ""
             }
            },
            "type": "scatterpolar"
           }
          ],
          "scatterpolargl": [
           {
            "marker": {
             "colorbar": {
              "outlinewidth": 0,
              "ticks": ""
             }
            },
            "type": "scatterpolargl"
           }
          ],
          "scatterternary": [
           {
            "marker": {
             "colorbar": {
              "outlinewidth": 0,
              "ticks": ""
             }
            },
            "type": "scatterternary"
           }
          ],
          "surface": [
           {
            "colorbar": {
             "outlinewidth": 0,
             "ticks": ""
            },
            "colorscale": [
             [
              0,
              "#0d0887"
             ],
             [
              0.1111111111111111,
              "#46039f"
             ],
             [
              0.2222222222222222,
              "#7201a8"
             ],
             [
              0.3333333333333333,
              "#9c179e"
             ],
             [
              0.4444444444444444,
              "#bd3786"
             ],
             [
              0.5555555555555556,
              "#d8576b"
             ],
             [
              0.6666666666666666,
              "#ed7953"
             ],
             [
              0.7777777777777778,
              "#fb9f3a"
             ],
             [
              0.8888888888888888,
              "#fdca26"
             ],
             [
              1,
              "#f0f921"
             ]
            ],
            "type": "surface"
           }
          ],
          "table": [
           {
            "cells": {
             "fill": {
              "color": "#EBF0F8"
             },
             "line": {
              "color": "white"
             }
            },
            "header": {
             "fill": {
              "color": "#C8D4E3"
             },
             "line": {
              "color": "white"
             }
            },
            "type": "table"
           }
          ]
         },
         "layout": {
          "annotationdefaults": {
           "arrowcolor": "#2a3f5f",
           "arrowhead": 0,
           "arrowwidth": 1
          },
          "autotypenumbers": "strict",
          "coloraxis": {
           "colorbar": {
            "outlinewidth": 0,
            "ticks": ""
           }
          },
          "colorscale": {
           "diverging": [
            [
             0,
             "#8e0152"
            ],
            [
             0.1,
             "#c51b7d"
            ],
            [
             0.2,
             "#de77ae"
            ],
            [
             0.3,
             "#f1b6da"
            ],
            [
             0.4,
             "#fde0ef"
            ],
            [
             0.5,
             "#f7f7f7"
            ],
            [
             0.6,
             "#e6f5d0"
            ],
            [
             0.7,
             "#b8e186"
            ],
            [
             0.8,
             "#7fbc41"
            ],
            [
             0.9,
             "#4d9221"
            ],
            [
             1,
             "#276419"
            ]
           ],
           "sequential": [
            [
             0,
             "#0d0887"
            ],
            [
             0.1111111111111111,
             "#46039f"
            ],
            [
             0.2222222222222222,
             "#7201a8"
            ],
            [
             0.3333333333333333,
             "#9c179e"
            ],
            [
             0.4444444444444444,
             "#bd3786"
            ],
            [
             0.5555555555555556,
             "#d8576b"
            ],
            [
             0.6666666666666666,
             "#ed7953"
            ],
            [
             0.7777777777777778,
             "#fb9f3a"
            ],
            [
             0.8888888888888888,
             "#fdca26"
            ],
            [
             1,
             "#f0f921"
            ]
           ],
           "sequentialminus": [
            [
             0,
             "#0d0887"
            ],
            [
             0.1111111111111111,
             "#46039f"
            ],
            [
             0.2222222222222222,
             "#7201a8"
            ],
            [
             0.3333333333333333,
             "#9c179e"
            ],
            [
             0.4444444444444444,
             "#bd3786"
            ],
            [
             0.5555555555555556,
             "#d8576b"
            ],
            [
             0.6666666666666666,
             "#ed7953"
            ],
            [
             0.7777777777777778,
             "#fb9f3a"
            ],
            [
             0.8888888888888888,
             "#fdca26"
            ],
            [
             1,
             "#f0f921"
            ]
           ]
          },
          "colorway": [
           "#636efa",
           "#EF553B",
           "#00cc96",
           "#ab63fa",
           "#FFA15A",
           "#19d3f3",
           "#FF6692",
           "#B6E880",
           "#FF97FF",
           "#FECB52"
          ],
          "font": {
           "color": "#2a3f5f"
          },
          "geo": {
           "bgcolor": "white",
           "lakecolor": "white",
           "landcolor": "#E5ECF6",
           "showlakes": true,
           "showland": true,
           "subunitcolor": "white"
          },
          "hoverlabel": {
           "align": "left"
          },
          "hovermode": "closest",
          "mapbox": {
           "style": "light"
          },
          "paper_bgcolor": "white",
          "plot_bgcolor": "#E5ECF6",
          "polar": {
           "angularaxis": {
            "gridcolor": "white",
            "linecolor": "white",
            "ticks": ""
           },
           "bgcolor": "#E5ECF6",
           "radialaxis": {
            "gridcolor": "white",
            "linecolor": "white",
            "ticks": ""
           }
          },
          "scene": {
           "xaxis": {
            "backgroundcolor": "#E5ECF6",
            "gridcolor": "white",
            "gridwidth": 2,
            "linecolor": "white",
            "showbackground": true,
            "ticks": "",
            "zerolinecolor": "white"
           },
           "yaxis": {
            "backgroundcolor": "#E5ECF6",
            "gridcolor": "white",
            "gridwidth": 2,
            "linecolor": "white",
            "showbackground": true,
            "ticks": "",
            "zerolinecolor": "white"
           },
           "zaxis": {
            "backgroundcolor": "#E5ECF6",
            "gridcolor": "white",
            "gridwidth": 2,
            "linecolor": "white",
            "showbackground": true,
            "ticks": "",
            "zerolinecolor": "white"
           }
          },
          "shapedefaults": {
           "line": {
            "color": "#2a3f5f"
           }
          },
          "ternary": {
           "aaxis": {
            "gridcolor": "white",
            "linecolor": "white",
            "ticks": ""
           },
           "baxis": {
            "gridcolor": "white",
            "linecolor": "white",
            "ticks": ""
           },
           "bgcolor": "#E5ECF6",
           "caxis": {
            "gridcolor": "white",
            "linecolor": "white",
            "ticks": ""
           }
          },
          "title": {
           "x": 0.05
          },
          "xaxis": {
           "automargin": true,
           "gridcolor": "white",
           "linecolor": "white",
           "ticks": "",
           "title": {
            "standoff": 15
           },
           "zerolinecolor": "white",
           "zerolinewidth": 2
          },
          "yaxis": {
           "automargin": true,
           "gridcolor": "white",
           "linecolor": "white",
           "ticks": "",
           "title": {
            "standoff": 15
           },
           "zerolinecolor": "white",
           "zerolinewidth": 2
          }
         }
        },
        "title": {
         "text": "City Frequence"
        },
        "xaxis": {
         "anchor": "y",
         "domain": [
          0,
          1
         ],
         "title": {
          "text": "City Name"
         }
        },
        "yaxis": {
         "anchor": "x",
         "domain": [
          0,
          1
         ],
         "title": {
          "text": "Number of appearances in each city"
         }
        }
       }
      }
     },
     "metadata": {},
     "output_type": "display_data"
    }
   ],
   "source": [
    "# visualize to see if there is outlier \n",
    "fig1 = px.scatter(MajorCity2, x='City', y='datetime')\n",
    "fig1.update_layout(\n",
    "    title=\"City Frequence\",\n",
    "    xaxis_title=\"City Name\",\n",
    "    yaxis_title=\"Number of appearances in each city\")\n",
    "fig1.show()"
   ]
  },
  {
   "cell_type": "code",
   "execution_count": 44,
   "metadata": {
    "colab": {
     "base_uri": "https://localhost:8080/"
    },
    "id": "FUpc4NaRHlYf",
    "outputId": "776baa53-ca6f-4d44-900d-adf0e1474a38"
   },
   "outputs": [
    {
     "data": {
      "text/plain": [
       "datetime                                     0\n",
       "AverageTemperature                           0\n",
       "AverageTemperatureUncertainty                0\n",
       "City                                         0\n",
       "Country                                      0\n",
       "Latitude                                     0\n",
       "Longitude                                    0\n",
       "LandAverageTemperature                       0\n",
       "LandAverageTemperatureUncertainty            0\n",
       "LandMaxTemperature                           0\n",
       "LandMaxTemperatureUncertainty                0\n",
       "LandMinTemperature                           0\n",
       "LandMinTemperatureUncertainty                0\n",
       "LandAndOceanAverageTemperature               0\n",
       "LandAndOceanAverageTemperatureUncertainty    0\n",
       "dtype: int64"
      ]
     },
     "execution_count": 44,
     "metadata": {},
     "output_type": "execute_result"
    }
   ],
   "source": [
    "# merge temp dataset on major dataset \n",
    "MajorCity_Temp = pd.merge(MajorCity, Temp, how=\"left\", on=[\"datetime\"])\n",
    "# check missing value\n",
    "MajorCity_Temp.isnull().sum()"
   ]
  },
  {
   "cell_type": "code",
   "execution_count": 45,
   "metadata": {
    "colab": {
     "base_uri": "https://localhost:8080/"
    },
    "id": "j8BsYOek6RcI",
    "outputId": "3f6017ff-d7b8-4b82-ea0c-89ebcaf37c86"
   },
   "outputs": [
    {
     "data": {
      "text/plain": [
       "datetime                                     datetime64[ns]\n",
       "AverageTemperature                                  float64\n",
       "AverageTemperatureUncertainty                       float64\n",
       "City                                                 object\n",
       "Country                                              object\n",
       "Latitude                                             object\n",
       "Longitude                                            object\n",
       "LandAverageTemperature                              float64\n",
       "LandAverageTemperatureUncertainty                   float64\n",
       "LandMaxTemperature                                  float64\n",
       "LandMaxTemperatureUncertainty                       float64\n",
       "LandMinTemperature                                  float64\n",
       "LandMinTemperatureUncertainty                       float64\n",
       "LandAndOceanAverageTemperature                      float64\n",
       "LandAndOceanAverageTemperatureUncertainty           float64\n",
       "dtype: object"
      ]
     },
     "execution_count": 45,
     "metadata": {},
     "output_type": "execute_result"
    }
   ],
   "source": [
    "# check datatype\n",
    "MajorCity_Temp.dtypes"
   ]
  },
  {
   "cell_type": "code",
   "execution_count": 46,
   "metadata": {
    "id": "kBaiItdU87XJ"
   },
   "outputs": [],
   "source": [
    "# since we want to predict the average temperature for each city , we need to fit the Geographical coordinates of cities into the model which we need to cast the object into numeric.\n",
    "# Latitude & Longitude converting function \n",
    "def convert(tude):\n",
    "    multiplier = 1 if tude[-1] in ['N', 'E'] else -1\n",
    "    return multiplier * float(tude[:-1])"
   ]
  },
  {
   "cell_type": "code",
   "execution_count": 47,
   "metadata": {
    "id": "5HHViBM5-kCd"
   },
   "outputs": [],
   "source": [
    "# apply converting function to specific column \n",
    "MajorCity_Temp['Longitude'] = MajorCity_Temp['Longitude'].apply(convert)\n",
    "MajorCity_Temp['Latitude'] = MajorCity_Temp['Latitude'].apply(convert)"
   ]
  },
  {
   "cell_type": "code",
   "execution_count": 48,
   "metadata": {
    "colab": {
     "base_uri": "https://localhost:8080/",
     "height": 653
    },
    "id": "qEVOPlqu9oQd",
    "outputId": "3d3154e7-ccfb-42aa-82ea-28a36b22cd68"
   },
   "outputs": [],
   "source": [
    "# change the datetime date from 01 to 31 for further use\n",
    "MajorCity_Temp['datetime'] = MajorCity_Temp['datetime'] + pd.offsets.MonthEnd(0)\n",
    "# save MajorCity_Temp as processed_df to csv for Group Parallel Works\n",
    "MajorCity_Temp.to_csv('./processedData/processed_data.csv', index=False)"
   ]
  },
  {
   "cell_type": "markdown",
   "metadata": {
    "id": "OPkUk4ZsRp1B"
   },
   "source": [
    "## Feature Engineering via Pandas SQL"
   ]
  },
  {
   "cell_type": "markdown",
   "metadata": {},
   "source": [
    "#### Then we creating new variables or features from existing data that may be more useful for analysis"
   ]
  },
  {
   "cell_type": "code",
   "execution_count": 49,
   "metadata": {
    "id": "XZy1PMDsTETT"
   },
   "outputs": [],
   "source": [
    "import pandasql as ps"
   ]
  },
  {
   "cell_type": "markdown",
   "metadata": {
    "id": "wbVCapx2TcFR"
   },
   "source": [
    "### X Variables"
   ]
  },
  {
   "cell_type": "code",
   "execution_count": 50,
   "metadata": {
    "id": "K-K-lYEO-Ctt"
   },
   "outputs": [],
   "source": [
    "# create year and month feature \n",
    "MajorCity_Temp['year'] = MajorCity_Temp['datetime'].dt.strftime('%Y')\n",
    "MajorCity_Temp['month'] = MajorCity_Temp['datetime'].dt.strftime('%m')"
   ]
  },
  {
   "cell_type": "code",
   "execution_count": 53,
   "metadata": {
    "colab": {
     "base_uri": "https://localhost:8080/",
     "height": 382
    },
    "id": "tPREo50yTbSQ",
    "outputId": "1acaaffd-29d9-4a7a-e044-800f79c054b6"
   },
   "outputs": [
    {
     "data": {
      "text/html": [
       "<div>\n",
       "<style scoped>\n",
       "    .dataframe tbody tr th:only-of-type {\n",
       "        vertical-align: middle;\n",
       "    }\n",
       "\n",
       "    .dataframe tbody tr th {\n",
       "        vertical-align: top;\n",
       "    }\n",
       "\n",
       "    .dataframe thead th {\n",
       "        text-align: right;\n",
       "    }\n",
       "</style>\n",
       "<table border=\"1\" class=\"dataframe\">\n",
       "  <thead>\n",
       "    <tr style=\"text-align: right;\">\n",
       "      <th></th>\n",
       "      <th>datetime</th>\n",
       "      <th>AverageTemperature</th>\n",
       "      <th>AverageTemperatureUncertainty</th>\n",
       "      <th>City</th>\n",
       "      <th>Country</th>\n",
       "      <th>Latitude</th>\n",
       "      <th>Longitude</th>\n",
       "      <th>LandAverageTemperature</th>\n",
       "      <th>LandAverageTemperatureUncertainty</th>\n",
       "      <th>LandMaxTemperature</th>\n",
       "      <th>...</th>\n",
       "      <th>month</th>\n",
       "      <th>Lag_1_Temp</th>\n",
       "      <th>Lag_2_Temp</th>\n",
       "      <th>Lag_3_Temp</th>\n",
       "      <th>Lag_4_Temp</th>\n",
       "      <th>Lag_5_Temp</th>\n",
       "      <th>Lag_6_Temp</th>\n",
       "      <th>Lag_12_Temp</th>\n",
       "      <th>Lag_24_Temp</th>\n",
       "      <th>Lag_36_Temp</th>\n",
       "    </tr>\n",
       "  </thead>\n",
       "  <tbody>\n",
       "    <tr>\n",
       "      <th>0</th>\n",
       "      <td>1900-01-31 00:00:00.000000</td>\n",
       "      <td>25.696</td>\n",
       "      <td>1.326</td>\n",
       "      <td>Abidjan</td>\n",
       "      <td>Côte D'Ivoire</td>\n",
       "      <td>5.63</td>\n",
       "      <td>-3.23</td>\n",
       "      <td>1.461</td>\n",
       "      <td>0.276</td>\n",
       "      <td>7.193</td>\n",
       "      <td>...</td>\n",
       "      <td>01</td>\n",
       "      <td>NaN</td>\n",
       "      <td>NaN</td>\n",
       "      <td>NaN</td>\n",
       "      <td>NaN</td>\n",
       "      <td>NaN</td>\n",
       "      <td>NaN</td>\n",
       "      <td>NaN</td>\n",
       "      <td>NaN</td>\n",
       "      <td>NaN</td>\n",
       "    </tr>\n",
       "    <tr>\n",
       "      <th>1</th>\n",
       "      <td>1900-02-28 00:00:00.000000</td>\n",
       "      <td>27.816</td>\n",
       "      <td>0.789</td>\n",
       "      <td>Abidjan</td>\n",
       "      <td>Côte D'Ivoire</td>\n",
       "      <td>5.63</td>\n",
       "      <td>-3.23</td>\n",
       "      <td>3.098</td>\n",
       "      <td>0.416</td>\n",
       "      <td>9.181</td>\n",
       "      <td>...</td>\n",
       "      <td>02</td>\n",
       "      <td>25.696</td>\n",
       "      <td>NaN</td>\n",
       "      <td>NaN</td>\n",
       "      <td>NaN</td>\n",
       "      <td>NaN</td>\n",
       "      <td>NaN</td>\n",
       "      <td>NaN</td>\n",
       "      <td>NaN</td>\n",
       "      <td>NaN</td>\n",
       "    </tr>\n",
       "    <tr>\n",
       "      <th>2</th>\n",
       "      <td>1900-03-31 00:00:00.000000</td>\n",
       "      <td>28.395</td>\n",
       "      <td>1.296</td>\n",
       "      <td>Abidjan</td>\n",
       "      <td>Côte D'Ivoire</td>\n",
       "      <td>5.63</td>\n",
       "      <td>-3.23</td>\n",
       "      <td>5.492</td>\n",
       "      <td>0.261</td>\n",
       "      <td>11.377</td>\n",
       "      <td>...</td>\n",
       "      <td>03</td>\n",
       "      <td>27.816</td>\n",
       "      <td>25.696</td>\n",
       "      <td>NaN</td>\n",
       "      <td>NaN</td>\n",
       "      <td>NaN</td>\n",
       "      <td>NaN</td>\n",
       "      <td>NaN</td>\n",
       "      <td>NaN</td>\n",
       "      <td>NaN</td>\n",
       "    </tr>\n",
       "    <tr>\n",
       "      <th>3</th>\n",
       "      <td>1900-04-30 00:00:00.000000</td>\n",
       "      <td>27.706</td>\n",
       "      <td>0.501</td>\n",
       "      <td>Abidjan</td>\n",
       "      <td>Côte D'Ivoire</td>\n",
       "      <td>5.63</td>\n",
       "      <td>-3.23</td>\n",
       "      <td>8.223</td>\n",
       "      <td>0.292</td>\n",
       "      <td>13.972</td>\n",
       "      <td>...</td>\n",
       "      <td>04</td>\n",
       "      <td>28.395</td>\n",
       "      <td>27.816</td>\n",
       "      <td>25.696</td>\n",
       "      <td>NaN</td>\n",
       "      <td>NaN</td>\n",
       "      <td>NaN</td>\n",
       "      <td>NaN</td>\n",
       "      <td>NaN</td>\n",
       "      <td>NaN</td>\n",
       "    </tr>\n",
       "    <tr>\n",
       "      <th>4</th>\n",
       "      <td>1900-05-31 00:00:00.000000</td>\n",
       "      <td>26.753</td>\n",
       "      <td>0.458</td>\n",
       "      <td>Abidjan</td>\n",
       "      <td>Côte D'Ivoire</td>\n",
       "      <td>5.63</td>\n",
       "      <td>-3.23</td>\n",
       "      <td>11.385</td>\n",
       "      <td>0.357</td>\n",
       "      <td>17.415</td>\n",
       "      <td>...</td>\n",
       "      <td>05</td>\n",
       "      <td>27.706</td>\n",
       "      <td>28.395</td>\n",
       "      <td>27.816</td>\n",
       "      <td>25.696</td>\n",
       "      <td>NaN</td>\n",
       "      <td>NaN</td>\n",
       "      <td>NaN</td>\n",
       "      <td>NaN</td>\n",
       "      <td>NaN</td>\n",
       "    </tr>\n",
       "  </tbody>\n",
       "</table>\n",
       "<p>5 rows × 26 columns</p>\n",
       "</div>"
      ],
      "text/plain": [
       "                     datetime  AverageTemperature   \n",
       "0  1900-01-31 00:00:00.000000              25.696  \\\n",
       "1  1900-02-28 00:00:00.000000              27.816   \n",
       "2  1900-03-31 00:00:00.000000              28.395   \n",
       "3  1900-04-30 00:00:00.000000              27.706   \n",
       "4  1900-05-31 00:00:00.000000              26.753   \n",
       "\n",
       "   AverageTemperatureUncertainty     City        Country  Latitude  Longitude   \n",
       "0                          1.326  Abidjan  Côte D'Ivoire      5.63      -3.23  \\\n",
       "1                          0.789  Abidjan  Côte D'Ivoire      5.63      -3.23   \n",
       "2                          1.296  Abidjan  Côte D'Ivoire      5.63      -3.23   \n",
       "3                          0.501  Abidjan  Côte D'Ivoire      5.63      -3.23   \n",
       "4                          0.458  Abidjan  Côte D'Ivoire      5.63      -3.23   \n",
       "\n",
       "   LandAverageTemperature  LandAverageTemperatureUncertainty   \n",
       "0                   1.461                              0.276  \\\n",
       "1                   3.098                              0.416   \n",
       "2                   5.492                              0.261   \n",
       "3                   8.223                              0.292   \n",
       "4                  11.385                              0.357   \n",
       "\n",
       "   LandMaxTemperature  ...  month  Lag_1_Temp  Lag_2_Temp  Lag_3_Temp   \n",
       "0               7.193  ...     01         NaN         NaN         NaN  \\\n",
       "1               9.181  ...     02      25.696         NaN         NaN   \n",
       "2              11.377  ...     03      27.816      25.696         NaN   \n",
       "3              13.972  ...     04      28.395      27.816      25.696   \n",
       "4              17.415  ...     05      27.706      28.395      27.816   \n",
       "\n",
       "   Lag_4_Temp Lag_5_Temp Lag_6_Temp  Lag_12_Temp  Lag_24_Temp  Lag_36_Temp  \n",
       "0         NaN        NaN        NaN          NaN          NaN          NaN  \n",
       "1         NaN        NaN        NaN          NaN          NaN          NaN  \n",
       "2         NaN        NaN        NaN          NaN          NaN          NaN  \n",
       "3         NaN        NaN        NaN          NaN          NaN          NaN  \n",
       "4      25.696        NaN        NaN          NaN          NaN          NaN  \n",
       "\n",
       "[5 rows x 26 columns]"
      ]
     },
     "execution_count": 53,
     "metadata": {},
     "output_type": "execute_result"
    }
   ],
   "source": [
    "# create Lagging feature\n",
    "lagging_query ='''\n",
    "               SELECT *,\n",
    "                     LAG(AverageTemperature,1)\n",
    "                      OVER(PARTITION BY City,Country\n",
    "                           ORDER BY year, month) AS Lag_1_Temp,\n",
    "                     LAG(AverageTemperature,2)\n",
    "                      OVER(PARTITION BY City,Country\n",
    "                           ORDER BY year, month) AS Lag_2_Temp,\n",
    "                     LAG(AverageTemperature,3)\n",
    "                      OVER(PARTITION BY City,Country\n",
    "                           ORDER BY year, month) AS Lag_3_Temp,                     \n",
    "                     LAG(AverageTemperature,4)\n",
    "                      OVER(PARTITION BY City,Country\n",
    "                           ORDER BY year, month) AS Lag_4_Temp,\n",
    "                     LAG(AverageTemperature,5)\n",
    "                      OVER(PARTITION BY City,Country\n",
    "                           ORDER BY year, month) AS Lag_5_Temp, \n",
    "                     LAG(AverageTemperature,6)\n",
    "                      OVER(PARTITION BY City,Country\n",
    "                           ORDER BY year, month) AS Lag_6_Temp,\n",
    "                     LAG(AverageTemperature,12)\n",
    "                      OVER(PARTITION BY City,Country\n",
    "                           ORDER BY year, month) AS Lag_12_Temp, \n",
    "                     LAG(AverageTemperature,24)\n",
    "                      OVER(PARTITION BY City,Country\n",
    "                           ORDER BY year, month) AS Lag_24_Temp,\n",
    "                     LAG(AverageTemperature,36)\n",
    "                      OVER(PARTITION BY City,Country\n",
    "                           ORDER BY year, month) AS Lag_36_Temp                 \n",
    "                FROM MajorCity_Temp\n",
    "               '''\n",
    "feature_df = ps.sqldf(lagging_query, locals())\n",
    "feature_df.head()"
   ]
  },
  {
   "cell_type": "code",
   "execution_count": 54,
   "metadata": {
    "id": "f_P5y_TaT8cv"
   },
   "outputs": [],
   "source": [
    "# create rolling average feature by period\n",
    "rollingAvg_query ='''\n",
    "                  SELECT *,\n",
    "                         AVG(AverageTemperature) \n",
    "                          OVER(PARTITION BY City,Country\n",
    "                               ORDER BY year, month Rows between 2 preceding and current row) AS Roll_3_Avg,\n",
    "                         AVG(AverageTemperature) \n",
    "                          OVER(PARTITION BY City,Country\n",
    "                               ORDER BY year, month Rows between 5 preceding and current row) AS Roll_6_Avg, \n",
    "                         AVG(AverageTemperature) \n",
    "                          OVER(PARTITION BY City,Country\n",
    "                               ORDER BY year, month Rows between 11 preceding and current row) AS Roll_12_Avg,\n",
    "                         AVG(AverageTemperature) \n",
    "                          OVER(PARTITION BY City,Country\n",
    "                               ORDER BY year, month Rows between 23 preceding and current row) AS Roll_24_Avg,\n",
    "                         AVG(AverageTemperature) \n",
    "                          OVER(PARTITION BY City,Country\n",
    "                               ORDER BY year, month Rows between 35 preceding and current row) AS Roll_36_Avg   \n",
    "                   FROM feature_df\n",
    "                  '''\n",
    "feature_df = ps.sqldf(rollingAvg_query, locals())"
   ]
  },
  {
   "cell_type": "code",
   "execution_count": 55,
   "metadata": {
    "id": "64jtuSICUJiz"
   },
   "outputs": [],
   "source": [
    "# rolling avg,min,max for all time\n",
    "rollingAllAvgMinMax_query ='''\n",
    "               SELECT *,\n",
    "                      MIN(AverageTemperature)\n",
    "                        OVER(PARTITION BY City,Country\n",
    "                             ORDER BY year, month Rows between unbounded preceding And current row) AS Roll_min_Temp,\n",
    "                      MAX(AverageTemperature)\n",
    "                        OVER(PARTITION BY City,Country\n",
    "                             ORDER BY year, month Rows between unbounded preceding And current row) AS Roll_max_Temp,\n",
    "                      AVG(AverageTemperature) \n",
    "                        OVER(PARTITION BY City,Country\n",
    "                             ORDER BY year, month Rows between unbounded preceding and current row) AS Roll_avg_Temp\n",
    "                FROM feature_df\n",
    "               '''\n",
    "feature_df = ps.sqldf(rollingAllAvgMinMax_query, locals())"
   ]
  },
  {
   "cell_type": "code",
   "execution_count": 57,
   "metadata": {
    "id": "L13FkMqUZ8mK"
   },
   "outputs": [],
   "source": [
    "# other temperature feature including:\n",
    "# LandAverageTemperature,LandMaxTemperature,LandMinTemperature,LandAndOceanAverageTemperature\n",
    "other_features_query ='''\n",
    "                      SELECT *,\n",
    "                             LAG(LandAverageTemperature, 1)\n",
    "                              OVER(PARTITION BY City,Country\n",
    "                                   ORDER BY year, month) AS Lag_1_LandAvgTemp,\n",
    "                             LAG(LandMaxTemperature, 1)\n",
    "                              OVER(PARTITION BY City,Country\n",
    "                                   ORDER BY year, month) AS Lag_1_LandMaxTemp,  \n",
    "                             LAG(LandMinTemperature, 1)\n",
    "                              OVER(PARTITION BY City,Country\n",
    "                                   ORDER BY year, month) AS Lag_1_LandMaxTemp, \n",
    "                             LAG(LandAndOceanAverageTemperature, 1)\n",
    "                              OVER(PARTITION BY City,Country\n",
    "                                   ORDER BY year, month) AS Lag_1_OceanOceanAvgTemp\n",
    "                        FROM feature_df\n",
    "                      '''\n",
    "feature_df = ps.sqldf(other_features_query, locals())"
   ]
  },
  {
   "cell_type": "code",
   "execution_count": 85,
   "metadata": {
    "id": "s7DT9ycHEHpT"
   },
   "outputs": [
    {
     "data": {
      "text/plain": [
       "(132000, 37)"
      ]
     },
     "execution_count": 85,
     "metadata": {},
     "output_type": "execute_result"
    }
   ],
   "source": [
    "# #check feature_df to see if each feature is correct and cast datetime type to datetime \n",
    "# feature_df.head()\n",
    "# feature_df.dtypes\n",
    "feature_df['datetime'] = pd.to_datetime(feature_df['datetime'])\n",
    "feature_df:pd.DataFrame\n",
    "# dropna\n",
    "feature_df.dropna(subset=['Lag_36_Temp'], inplace=True)\n",
    "# check dataset size \n",
    "feature_df.shape"
   ]
  },
  {
   "cell_type": "markdown",
   "metadata": {},
   "source": [
    "### Y Variables"
   ]
  },
  {
   "cell_type": "code",
   "execution_count": null,
   "metadata": {},
   "outputs": [],
   "source": [
    "# Since we want to predict the monthly average temperature after 10 years (after 120 months)\n",
    "# we want to get m + 120 to m + 132 which is 12 separate y variables as target_temp \n",
    "# which will lead us to build 12 models later \n",
    "# why not rolling model: we can't predict 10 years then 20 years"
   ]
  },
  {
   "cell_type": "code",
   "execution_count": 88,
   "metadata": {},
   "outputs": [],
   "source": [
    "for i in range(120, 133):\n",
    "    final_data = feature_df.copy(deep=True)\n",
    "    final_data['target_dates'] = feature_df['datetime'] + pd.DateOffset(months=i) + pd.offsets.MonthEnd(0) # + 120 month\n",
    "    y = final_data[['datetime', 'AverageTemperature', 'City']].copy(deep=True)\n",
    "    y.rename(columns={'AverageTemperature': 'target_AvgTemp', 'datetime': 'target_dates'}, inplace=True)\n",
    "    final_data = final_data.merge(y, on=['target_dates','City'], how='left')\n",
    "    final_data.dropna(subset=['target_AvgTemp'], inplace=True)\n",
    "    final_data.to_csv(f'./processedData/processed_data_{i}.csv', index=False)"
   ]
  }
 ],
 "metadata": {
  "colab": {
   "provenance": []
  },
  "kernelspec": {
   "display_name": "Python 3 (ipykernel)",
   "language": "python",
   "name": "python3"
  },
  "language_info": {
   "codemirror_mode": {
    "name": "ipython",
    "version": 3
   },
   "file_extension": ".py",
   "mimetype": "text/x-python",
   "name": "python",
   "nbconvert_exporter": "python",
   "pygments_lexer": "ipython3",
   "version": "3.9.12"
  }
 },
 "nbformat": 4,
 "nbformat_minor": 1
}
